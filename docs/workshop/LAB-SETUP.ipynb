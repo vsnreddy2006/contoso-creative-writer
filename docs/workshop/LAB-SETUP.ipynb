{
 "cells": [
  {
   "cell_type": "markdown",
   "metadata": {},
   "source": [
    "## Part 1: Setting Up\n",
    "\n",
    "✨This is a Jupyter Notebook that allows you to run Python code interactively 🐍✨\n",
    "\n",
    "🚨**Double click on the notebook tab** above to keep the notebook open! \n",
    "\n",
    "1. Click the **Select Kernel** button on the top right of the notebook.\n",
    "2. Choose **Python environments** and select **Python 3.11**.\n",
    "\n",
    "Note: To run the code in the cells of this notebook click the play button (▶️) on the left side of the cells that contain code. \n",
    "\n",
    "These are instructions for the insructor led sessions, you should have the Skillable Lab Manual open in a different tab.\n",
    "\n",
    "Copy/Paste the `CREDENTIALS` block at the top of the Skillable Lab instructions into the cell below:"
   ]
  },
  {
   "cell_type": "code",
   "execution_count": 1,
   "metadata": {},
   "outputs": [],
   "source": [
    "# CREDENTIALS\n",
    "Username     = \"User1-45958103@LODSPRODMCA.onmicrosoft.com\"\n",
    "Password     = \"eAgD0k$7H!\"\n",
    "AzureEnvName = \"AITOUR45958103\"\n",
    "Subscription = \"38a1ece9-74fc-4d1d-90d0-b8ffccc81098\""
   ]
  },
  {
   "cell_type": "markdown",
   "metadata": {},
   "source": [
    "### a. Login to GitHub.com and fork repository\n",
    "\n",
    "We'll begin by logging into the Github CLI so we can fork the repository and make changes to the code comfortably."
   ]
  },
  {
   "cell_type": "markdown",
   "metadata": {},
   "source": [
    "> Running this command will:\n",
    ">   - Log in to the **GitHub.com** account\n",
    ">   - Select **HTTPS** as the preferred protocol for Git operations\n",
    ">   - Authenticate Git with your GitHub credentials\n",
    ">   - Authenticate GitHub CLI using **a web browser**\n",
    "\n",
    "Click the play button to the left of the cell to run it and then complete the authorization process. "
   ]
  },
  {
   "cell_type": "code",
   "execution_count": 2,
   "metadata": {},
   "outputs": [
    {
     "name": "stdout",
     "output_type": "stream",
     "text": [
      "\n",
      "\u001b[0;33m!\u001b[0m First copy your one-time code: \u001b[0;1;39m5672-B33B\u001b[0m\n",
      "\u001b[0;1;39mOpen this URL\u001b[0m to continue in your web browser: https://github.com/login/device\n",
      "\u001b[0;32m✓\u001b[0m Authentication complete.\n",
      "- gh config set -h github.com git_protocol https\n",
      "\u001b[0;32m✓\u001b[0m Configured git protocol\n",
      "\u001b[0;33m!\u001b[0m Authentication credentials saved in plain text\n",
      "\u001b[0;32m✓\u001b[0m Logged in as \u001b[0;1;39mvsnreddy2006\u001b[0m\n"
     ]
    }
   ],
   "source": [
    "! echo Y | GITHUB_TOKEN=\"\" gh auth login --hostname github.com --git-protocol https --web --scopes workflow "
   ]
  },
  {
   "cell_type": "markdown",
   "metadata": {},
   "source": [
    "Then fork the repository"
   ]
  },
  {
   "cell_type": "code",
   "execution_count": 3,
   "metadata": {},
   "outputs": [
    {
     "name": "stdout",
     "output_type": "stream",
     "text": [
      "\u001b[K\u001b[0;32m✓\u001b[0m Created fork \u001b[0;1;39mvsnreddy2006/contoso-creative-writer\u001b[0m\n",
      "\u001b[0;32m✓\u001b[0m Added remote \u001b[0;1;39morigin\u001b[0m\n"
     ]
    }
   ],
   "source": [
    "! GITHUB_TOKEN=\"\" gh repo fork --remote"
   ]
  },
  {
   "cell_type": "markdown",
   "metadata": {},
   "source": [
    "### b. Login to Azure\n",
    "\n",
    "We will login to Azure Developer CLI (azd) and Azure CLI (az).\n",
    "\n",
    "1. Sign in to Azure Developer CLI (azd)"
   ]
  },
  {
   "cell_type": "code",
   "execution_count": 14,
   "metadata": {},
   "outputs": [
    {
     "name": "stderr",
     "output_type": "stream",
     "text": [
      "574.04s - pydevd: Sending message related to process being replaced timed-out after 5 seconds\n"
     ]
    },
    {
     "name": "stdout",
     "output_type": "stream",
     "text": [
      "\u001b[93mTo sign in, use a web browser to open the page https://microsoft.com/devicelogin and enter the code ADGKERSFK to authenticate.\u001b[0m\n",
      "\n",
      "Retrieving tenants and subscriptions for the selection...\n",
      "\n",
      "[Tenant and subscription selection]\n",
      "\n",
      "No     Subscription name    Subscription ID                       Tenant\n",
      "-----  -------------------  ------------------------------------  -------------\n",
      "\u001b[96m[1]\u001b[0m *  \u001b[96mAIDay-lod49878892\u001b[0m    \u001b[96m38a1ece9-74fc-4d1d-90d0-b8ffccc81098\u001b[0m  \u001b[96mLODS-Prod-MCA\u001b[0m\n",
      "\n",
      "The default is marked with an *; the default tenant is 'LODS-Prod-MCA' and subscription is 'AIDay-lod49878892' (38a1ece9-74fc-4d1d-90d0-b8ffccc81098).\n",
      "\n",
      "Select a subscription and tenant (Type a number or Enter for no changes): ^C\n"
     ]
    }
   ],
   "source": [
    "! az login"
   ]
  },
  {
   "cell_type": "markdown",
   "metadata": {},
   "source": [
    "2. Sign in to Azure Developer CLI. \n",
    "\n",
    "    > **🚨 IMPORTANT**: Use the following `username` and `password` when prompted to sign in with an email and password."
   ]
  },
  {
   "cell_type": "code",
   "execution_count": 15,
   "metadata": {},
   "outputs": [
    {
     "data": {
      "text/markdown": [
       "- **Username**: `User1-45958103@LODSPRODMCA.onmicrosoft.com`\n",
       " - **Password**: `eAgD0k$7H!`"
      ],
      "text/plain": [
       "<IPython.core.display.Markdown object>"
      ]
     },
     "execution_count": 15,
     "metadata": {},
     "output_type": "execute_result"
    }
   ],
   "source": [
    "from IPython.display import Markdown\n",
    "Markdown(f\"- **Username**: `{Username}`\\n - **Password**: `{Password}`\")"
   ]
  },
  {
   "cell_type": "code",
   "execution_count": 16,
   "metadata": {},
   "outputs": [
    {
     "name": "stderr",
     "output_type": "stream",
     "text": [
      "758.26s - pydevd: Sending message related to process being replaced timed-out after 5 seconds\n"
     ]
    },
    {
     "name": "stdout",
     "output_type": "stream",
     "text": [
      "Start by copying the next code: \u001b[1mE876NPHUT\u001b[0m\n",
      "Then, go to: https://microsoft.com/devicelogin\n",
      "Waiting for you to complete authentication in the browser...\n",
      "Device code authentication completed.\n",
      "Logged in to Azure.ing subscriptions...\n"
     ]
    }
   ],
   "source": [
    "! azd auth login --use-device-code --no-prompt"
   ]
  },
  {
   "cell_type": "markdown",
   "metadata": {},
   "source": [
    "### c. Get environment variables (You will need to use the terminal for step 1!)\n",
    "  \n",
    "1. Next we will get the environment variables for your resource group.\n",
    "\n",
    "    > **🚨 IMPORTANT: You will need to run the output of the next cell in the terminal!**\n",
    "    > \n",
    "    > - Run the cell below and then copy the output and paste it in the terminal and press enter\n",
    "    > - Select `Y` when asked if you'd like to create the environment \n",
    "    > - Press enter to select the default subscription\n",
    "    > - Select `Canada East` as the location \n",
    "\n",
    "    > **It's important that you select the correct location (Canada East)**"
   ]
  },
  {
   "cell_type": "code",
   "execution_count": 22,
   "metadata": {},
   "outputs": [
    {
     "name": "stderr",
     "output_type": "stream",
     "text": [
      "956.61s - pydevd: Sending message related to process being replaced timed-out after 5 seconds\n"
     ]
    },
    {
     "name": "stdout",
     "output_type": "stream",
     "text": [
      "\u001b[0G\u001b[2K\u001b[1;34m? \u001b[0m\u001b[1;99mEnvironment 'AITOUR45958103' does not exist, would you like to create it? \u001b[0m\u001b[37m(Y/n) \u001b[0m\u001b[?25l\u001b7\u001b[999;999f\u001b[6n"
     ]
    }
   ],
   "source": [
    "from IPython.display import Markdown\n",
    "Markdown(f\"azd env refresh -e {AzureEnvName}\")\n"
   ]
  },
  {
   "cell_type": "markdown",
   "metadata": {},
   "source": [
    "Once the command has been successfully run, continue with step 4, running the cells in the notebook as before. "
   ]
  },
  {
   "cell_type": "markdown",
   "metadata": {},
   "source": [
    "4. Save the environment variables to a .env file. "
   ]
  },
  {
   "cell_type": "code",
   "execution_count": 23,
   "metadata": {},
   "outputs": [
    {
     "name": "stderr",
     "output_type": "stream",
     "text": [
      "1331.50s - pydevd: Sending message related to process being replaced timed-out after 5 seconds\n"
     ]
    }
   ],
   "source": [
    "! azd env get-values > ../../.env"
   ]
  },
  {
   "cell_type": "markdown",
   "metadata": {},
   "source": [
    "The refreshed environment variables should have been saved to the [.env](../../.env)"
   ]
  },
  {
   "cell_type": "markdown",
   "metadata": {},
   "source": [
    "5. Set the correct roles by running the roles bash script. "
   ]
  },
  {
   "cell_type": "code",
   "execution_count": 24,
   "metadata": {},
   "outputs": [
    {
     "name": "stderr",
     "output_type": "stream",
     "text": [
      "1355.24s - pydevd: Sending message related to process being replaced timed-out after 5 seconds\n"
     ]
    },
    {
     "name": "stdout",
     "output_type": "stream",
     "text": [
      "{\n",
      "  \"condition\": null,\n",
      "  \"conditionVersion\": null,\n",
      "  \"createdBy\": null,\n",
      "  \"createdOn\": \"2024-11-21T21:38:01.078601+00:00\",\n",
      "  \"delegatedManagedIdentityResourceId\": null,\n",
      "  \"description\": null,\n",
      "  \"id\": \"/subscriptions/38a1ece9-74fc-4d1d-90d0-b8ffccc81098/resourceGroups/rg-AITOUR45958103/providers/Microsoft.Authorization/roleAssignments/4049f9e4-a132-453d-b899-a719b2dfa54f\",\n",
      "  \"name\": \"4049f9e4-a132-453d-b899-a719b2dfa54f\",\n",
      "  \"principalId\": \"0e9cb304-80d3-41ac-ad1b-2d16c86764f1\",\n",
      "  \"principalType\": \"User\",\n",
      "  \"resourceGroup\": \"rg-AITOUR45958103\",\n",
      "  \"roleDefinitionId\": \"/subscriptions/38a1ece9-74fc-4d1d-90d0-b8ffccc81098/providers/Microsoft.Authorization/roleDefinitions/8ebe5a00-799e-43f5-93ac-243d3dce84a7\",\n",
      "  \"scope\": \"/subscriptions/38a1ece9-74fc-4d1d-90d0-b8ffccc81098/resourceGroups/rg-AITOUR45958103\",\n",
      "  \"type\": \"Microsoft.Authorization/roleAssignments\",\n",
      "  \"updatedBy\": \"0e9cb304-80d3-41ac-ad1b-2d16c86764f1\",\n",
      "  \"updatedOn\": \"2024-11-21T21:38:01.171608+00:00\"\n",
      "}\n",
      "{\n",
      "  \"condition\": null,\n",
      "  \"conditionVersion\": null,\n",
      "  \"createdBy\": null,\n",
      "  \"createdOn\": \"2024-11-21T21:38:02.698842+00:00\",\n",
      "  \"delegatedManagedIdentityResourceId\": null,\n",
      "  \"description\": null,\n",
      "  \"id\": \"/subscriptions/38a1ece9-74fc-4d1d-90d0-b8ffccc81098/resourceGroups/rg-AITOUR45958103/providers/Microsoft.Authorization/roleAssignments/27ca3e0d-3334-4ce0-a004-7e81ba49374c\",\n",
      "  \"name\": \"27ca3e0d-3334-4ce0-a004-7e81ba49374c\",\n",
      "  \"principalId\": \"0e9cb304-80d3-41ac-ad1b-2d16c86764f1\",\n",
      "  \"principalType\": \"User\",\n",
      "  \"resourceGroup\": \"rg-AITOUR45958103\",\n",
      "  \"roleDefinitionId\": \"/subscriptions/38a1ece9-74fc-4d1d-90d0-b8ffccc81098/providers/Microsoft.Authorization/roleDefinitions/1407120a-92aa-4202-b7e9-c0e197c71c8f\",\n",
      "  \"scope\": \"/subscriptions/38a1ece9-74fc-4d1d-90d0-b8ffccc81098/resourceGroups/rg-AITOUR45958103\",\n",
      "  \"type\": \"Microsoft.Authorization/roleAssignments\",\n",
      "  \"updatedBy\": \"0e9cb304-80d3-41ac-ad1b-2d16c86764f1\",\n",
      "  \"updatedOn\": \"2024-11-21T21:38:02.926844+00:00\"\n",
      "}\n",
      "{\n",
      "  \"condition\": null,\n",
      "  \"conditionVersion\": null,\n",
      "  \"createdBy\": null,\n",
      "  \"createdOn\": \"2024-11-21T21:38:05.627841+00:00\",\n",
      "  \"delegatedManagedIdentityResourceId\": null,\n",
      "  \"description\": null,\n",
      "  \"id\": \"/subscriptions/38a1ece9-74fc-4d1d-90d0-b8ffccc81098/resourceGroups/rg-AITOUR45958103/providers/Microsoft.Authorization/roleAssignments/c0d8d010-761a-46ac-8996-2a90ddab8874\",\n",
      "  \"name\": \"c0d8d010-761a-46ac-8996-2a90ddab8874\",\n",
      "  \"principalId\": \"0e9cb304-80d3-41ac-ad1b-2d16c86764f1\",\n",
      "  \"principalType\": \"User\",\n",
      "  \"resourceGroup\": \"rg-AITOUR45958103\",\n",
      "  \"roleDefinitionId\": \"/subscriptions/38a1ece9-74fc-4d1d-90d0-b8ffccc81098/providers/Microsoft.Authorization/roleDefinitions/5e0bd9bd-7b93-4f28-af87-19fc36ad61bd\",\n",
      "  \"scope\": \"/subscriptions/38a1ece9-74fc-4d1d-90d0-b8ffccc81098/resourceGroups/rg-AITOUR45958103\",\n",
      "  \"type\": \"Microsoft.Authorization/roleAssignments\",\n",
      "  \"updatedBy\": \"0e9cb304-80d3-41ac-ad1b-2d16c86764f1\",\n",
      "  \"updatedOn\": \"2024-11-21T21:38:05.713840+00:00\"\n",
      "}\n"
     ]
    }
   ],
   "source": [
    "! bash ../../infra/hooks/roles.sh"
   ]
  },
  {
   "cell_type": "markdown",
   "metadata": {},
   "source": [
    "6. Run the postprovision script by running the cell below\n",
    "    - This script will take about 3 mins to run. "
   ]
  },
  {
   "cell_type": "code",
   "execution_count": 25,
   "metadata": {},
   "outputs": [
    {
     "name": "stderr",
     "output_type": "stream",
     "text": [
      "1379.91s - pydevd: Sending message related to process being replaced timed-out after 5 seconds\n"
     ]
    },
    {
     "name": "stdout",
     "output_type": "stream",
     "text": [
      "\n",
      "\u001b[1mRunning hooks (azd hooks run)\u001b[0m\n",
      "\u001b[90mFinding and executing \u001b[36mpostprovision\u001b[0m hooks for environment \u001b[36mAITOUR45958103\u001b[0m.\u001b[0m\n",
      "\n",
      "Running 1 postprovision command hook(s) for project\n",
      "\u001b[K  Running 1 postprovision command hook(s) for project\n",
      "\n",
      "\u001b[K  ──── Project: postprovision Hook Output ──────────────────────────────────────\n",
      "\n",
      "\u001b[K\n",
      "\u001b[K\n",
      "\u001b[K\n",
      "\u001b[K\n",
      "\u001b[K\n",
      "\u001b[K\n",
      "\u001b[K\n",
      "\u001b[K\n",
      "\n",
      "\u001b[K\u001b[1A\u001b[1A─────────────────────────────────────────────────────────────────────\n",
      "\u001b[K\n",
      "\u001b[K\n",
      "\u001b[K\n",
      "\u001b[K\n",
      "\u001b[K\n",
      "\u001b[K\n",
      "\u001b[K  --- ✅ | 1. Post-provisioning - env configured ---\n",
      "\n",
      "\u001b[K\u001b[1A\u001b[1A─────────────────────────────────────────────────────────────────────\n",
      "\u001b[K\n",
      "\u001b[K\n",
      "\u001b[K\n",
      "\u001b[K\n",
      "\u001b[K\n",
      "\u001b[K  --- ✅ | 1. Post-provisioning - env configured ---\n",
      "\u001b[K  Installing dependencies from \"requirements.txt\"\n",
      "\n",
      "\u001b[K\u001b[1A\u001b[1A─────────────────────────────────────────────────────────────────────\n",
      "\u001b[K\n",
      "\u001b[K\n",
      "\u001b[K\n",
      "\u001b[K\n",
      "\u001b[K  --- ✅ | 1. Post-provisioning - env configured ---\n",
      "\u001b[K  Installing dependencies from \"requirements.txt\"\n",
      "\u001b[K  --- ✅ | 2. Post-provisioning - ready execute notebooks ---\n",
      "\n",
      "\u001b[K\u001b[1A\u001b[1A─────────────────────────────────────────────────────────────────────\n",
      "\u001b[K\n",
      "\u001b[K\n",
      "\u001b[K\n",
      "\u001b[K  --- ✅ | 1. Post-provisioning - env configured ---\n",
      "\u001b[K  Installing dependencies from \"requirements.txt\"\n",
      "\u001b[K  --- ✅ | 2. Post-provisioning - ready execute notebooks ---\n",
      "\u001b[K  Populating data ....\n",
      "\n",
      "\u001b[K\u001b[1A\u001b[1A─────────────────────────────────────────────────────────────────────\n",
      "\u001b[K\n",
      "\u001b[K\n",
      "\u001b[K  --- ✅ | 1. Post-provisioning - env configured ---\n",
      "\u001b[K  Installing dependencies from \"requirements.txt\"\n",
      "\u001b[K  --- ✅ | 2. Post-provisioning - ready execute notebooks ---\n",
      "\u001b[K  Populating data ....\n",
      "\u001b[K  --- ✅ | 3. Post-provisioning - populated data ---\n",
      "\n",
      "\u001b[K\u001b[1A\u001b[1A─────────────────────────────────────────────────────────────────────\n",
      "\u001b[K  --- ✅ | 1. Post-provisioning - env configured ---\n",
      "\u001b[K  Installing dependencies from \"requirements.txt\"\n",
      "\u001b[K  --- ✅ | 2. Post-provisioning - ready execute notebooks ---\n",
      "\u001b[K  Populating data ....\n",
      "\u001b[K  --- ✅ | 3. Post-provisioning - populated data ---\n",
      "\u001b[K  --- 🎉 | 4. Access your ACA deployed web app here: https://agent-web.thankfu\n",
      "\u001b[K  lisland-8d7b2fd3.canadaeast.azurecontainerapps.io\n",
      "\n",
      "\u001b[K  \u001b[32m(✓) Done:\u001b[0m Running 1 postprovision command hook(s) for project─────\n",
      "  \u001b[33m(!) Warning:\u001b[0m Running 0 postprovision service hook(s) for api (No hook found)\n",
      "Running 0 postprovision service hook(s) for web\n",
      "  \u001b[33m(!) Warning:\u001b[0m Running 0 postprovision service hook(s) for web (No hook found)\n",
      "\u001b[32m\n",
      "SUCCESS: Your hooks have been run successfully\u001b[0m\n"
     ]
    }
   ],
   "source": [
    "! echo 1 | azd hooks run postprovision -e $AzureEnvName"
   ]
  },
  {
   "cell_type": "markdown",
   "metadata": {},
   "source": [
    "You are now ready to start understanding and building Contoso Creative Writer! \n",
    " \n",
    "## Part 2: Understanding and Building Contoso Creative Writer\n",
    "\n",
    "### Learning Outcomes\n",
    "In this section we will focus on four key outcomes, each split into their own notebook:\n",
    "\n",
    "1. [Understanding agents and prompt engineering with Prompty.](./workshop-1-intro.ipynb)\n",
    "2. [Utilizing Prompty tracing for debugging and observability.](./workshop-2-tracing.ipynb)\n",
    "3. [Building and running Contoso Creative Writer.](./workshop-3-build.ipynb)\n",
    "4. [Setting up automated evaluations with GitHub Actions.](./workshop-4-ci-cd.ipynb)\n",
    "\n",
    "Open the [workshop-1-intro.ipynb](workshop-1-intro.ipynb) file to begin the first learning outcome!  \n"
   ]
  }
 ],
 "metadata": {
  "kernelspec": {
   "display_name": "Python 3",
   "language": "python",
   "name": "python3"
  },
  "language_info": {
   "codemirror_mode": {
    "name": "ipython",
    "version": 3
   },
   "file_extension": ".py",
   "mimetype": "text/x-python",
   "name": "python",
   "nbconvert_exporter": "python",
   "pygments_lexer": "ipython3",
   "version": "3.11.10"
  }
 },
 "nbformat": 4,
 "nbformat_minor": 2
}
